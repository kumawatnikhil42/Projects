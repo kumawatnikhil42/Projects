{
 "cells": [
  {
   "cell_type": "code",
   "execution_count": 53,
   "id": "ea9d4465",
   "metadata": {},
   "outputs": [],
   "source": [
    "from bs4 import BeautifulSoup\n",
    "import requests\n",
    "import pandas as pd\n",
    "import time"
   ]
  },
  {
   "cell_type": "code",
   "execution_count": 54,
   "id": "ff12c03e",
   "metadata": {},
   "outputs": [],
   "source": [
    "Phones=[]\n",
    "D_Prices=[]\n",
    "A_Prices=[]\n",
    "Description=[]\n",
    "Reviews=[]\n",
    "Discount=[]"
   ]
  },
  {
   "cell_type": "code",
   "execution_count": 55,
   "id": "0b7465d1",
   "metadata": {},
   "outputs": [],
   "source": [
    "for i in range(2,41):\n",
    "    url = \"https://www.flipkart.com/search?q=mobiles&otracker=search&otracker1=search&marketplace=FLIPKART&as-show=on&as=off&page=\"+str(i)\n",
    "    headers = {\n",
    "        'User-Agent': 'Mozilla/5.0 (Windows NT 10.0; Win64; x64; rv:90.0) Gecko/20100101 Firefox/90.0',\n",
    "        'Accept-Language': 'en-US,en;q=0.5',\n",
    "        'Accept-Encoding': 'gzip, deflate, br',\n",
    "        'Connection': 'keep-alive',\n",
    "        'Upgrade-Insecure-Requests': '1',\n",
    "        'Referer': 'https://www.flipkart.com/'\n",
    "    }\n",
    "    res = requests.get(url, headers=headers)\n",
    "    \n",
    "    soup = BeautifulSoup(res.text,\"lxml\")\n",
    "    box=soup.find(\"div\",class_=\"DOjaWF gdgoEp\")\n",
    "\n",
    "\n",
    "    \n",
    "    phone=box.find_all(\"div\",class_=\"KzDlHZ\")\n",
    "    for i in phone:\n",
    "        name=i.text if i else \"Null\"\n",
    "        Phones.append(name)\n",
    "\n",
    "    price=box.find_all(\"div\",class_=\"Nx9bqj _4b5DiR\")\n",
    "    for i in price:\n",
    "        p=i.text if i else \"Null\"\n",
    "        Prices.append(p)\n",
    "        \n",
    "    description=box.find_all(\"div\",class_=\"_6NESgJ\")\n",
    "    for i in description:\n",
    "        des=i.text if i else \"Null\"\n",
    "        Description.append(des)\n",
    "    \n",
    "    review=box.find_all(\"div\",class_=\"XQDdHH\")\n",
    "    for i in review:\n",
    "            \n",
    "        re=i.text\n",
    "        Reviews.append(re)\n",
    "\n",
    "    "
   ]
  },
  {
   "cell_type": "code",
   "execution_count": 10,
   "id": "734470a3",
   "metadata": {},
   "outputs": [],
   "source": [
    "max_length = max(len(Phones), len(Prices), len(Description), len(Reviews))\n",
    "\n",
    "Phones.extend([\"Null\"] * (max_length - len(Phones)))\n",
    "A_Prices.extend([\"Null\"] * (max_length - len(Prices)))\n",
    "\n",
    "Description.extend([\"Null\"] * (max_length - len(Description)))\n",
    "Reviews.extend([\"Null\"] * (max_length - len(Reviews)))\n",
    "Flipkart_data=pd.DataFrame({\n",
    "    \"Phones\":Phones,\n",
    "    \"Prices\":Prices,\n",
    "    \"Description\":Description,\n",
    "    \"Reviews\":Reviews\n",
    "    })\n"
   ]
  },
  {
   "cell_type": "code",
   "execution_count": 12,
   "id": "f6cfe2e0",
   "metadata": {},
   "outputs": [],
   "source": [
    "# Flipkart_data.to_csv(\"C:\\\\Users\\\\user\\\\Datasets\\\\Flipkart_data.csv\",index=False)"
   ]
  },
  {
   "cell_type": "code",
   "execution_count": 57,
   "id": "4c8b15b8",
   "metadata": {},
   "outputs": [
    {
     "name": "stdout",
     "output_type": "stream",
     "text": [
      "936\n",
      "934\n",
      "905\n",
      "936\n",
      "924\n"
     ]
    }
   ],
   "source": [
    "print(len(Phones))\n",
    "print(len(Prices))\n",
    "print(len(Description))\n",
    "print(len(Reviews))"
   ]
  },
  {
   "cell_type": "code",
   "execution_count": 34,
   "id": "fbc28c1c",
   "metadata": {},
   "outputs": [],
   "source": [
    "K_products=[]\n",
    "Prices=[]\n",
    "\n",
    "Reviews=[]\n",
    "for i in range(2,26):\n",
    "    url = \"https://www.flipkart.com/search?q=kitchen&otracker=AS_Query_HistoryAutoSuggest_3_0&otracker1=AS_Query_HistoryAutoSuggest_3_0&marketplace=FLIPKART&as-show=on&as=off&as-pos=3&as-type=HISTORY&as-backfill=on&page=\"+str(i)\n",
    "    headers = {\n",
    "        'User-Agent': 'Mozilla/5.0 (Windows NT 10.0; Win64; x64; rv:90.0) Gecko/20100101 Firefox/90.0',\n",
    "        'Accept-Language': 'en-US,en;q=0.5',\n",
    "        'Accept-Encoding': 'gzip, deflate, br',\n",
    "        'Connection': 'keep-alive',\n",
    "        'Upgrade-Insecure-Requests': '1',\n",
    "        'Referer': 'https://www.flipkart.com/'\n",
    "    }\n",
    "    res = requests.get(url, headers=headers)\n",
    "    \n",
    "    soup = BeautifulSoup(res.text,\"lxml\")\n",
    "    box=soup.find(\"div\",class_=\"DOjaWF gdgoEp\")\n",
    "\n",
    "\n",
    "    \n",
    "    k=box.find_all(\"a\",class_=\"wjcEIp\")\n",
    "    for i in k:\n",
    "        name=i.text if i else \"Null\"\n",
    "        K_products.append(name)\n",
    "\n",
    "    price=box.find_all(\"div\",class_=\"Nx9bqj\")\n",
    "    for i in price:\n",
    "        p=i.text if i else \"Null\"\n",
    "        Prices.append(p)\n",
    "        \n",
    "\n",
    "    \n",
    "    review=box.find_all(\"div\",class_=\"XQDdHH\")\n",
    "    for i in review:\n",
    "            \n",
    "        re=i.text\n",
    "        Reviews.append(re)\n",
    "        \n"
   ]
  },
  {
   "cell_type": "code",
   "execution_count": 35,
   "id": "f99b6cd3",
   "metadata": {},
   "outputs": [
    {
     "name": "stdout",
     "output_type": "stream",
     "text": [
      "960\n",
      "960\n",
      "959\n"
     ]
    }
   ],
   "source": [
    "print(len(K_products))\n",
    "print(len(Prices))\n",
    "print(len(Reviews))"
   ]
  },
  {
   "cell_type": "code",
   "execution_count": 40,
   "id": "e9befcfa",
   "metadata": {},
   "outputs": [
    {
     "name": "stdout",
     "output_type": "stream",
     "text": [
      "960\n",
      "960\n",
      "960\n"
     ]
    }
   ],
   "source": [
    "max_length = max(len(K_products), len(Prices), len(Reviews))\n",
    "\n",
    "K_products.extend([\"Null\"] * (max_length - len(K_products)))\n",
    "Prices.extend([\"Null\"] * (max_length - len(Prices)))\n",
    "Reviews.extend([\"Null\"] * (max_length - len(Reviews)))\n",
    "\n",
    "print(len(K_products))\n",
    "print(len(Prices))\n",
    "print(len(Reviews))"
   ]
  },
  {
   "cell_type": "code",
   "execution_count": 41,
   "id": "e93cba63",
   "metadata": {},
   "outputs": [],
   "source": [
    "Flipkart_data_kitchen=pd.DataFrame({\n",
    "    \"Kitchen\":K_products,\n",
    "    \"Prices\":Prices,\n",
    "    \"Reviews\":Reviews\n",
    "    })"
   ]
  },
  {
   "cell_type": "code",
   "execution_count": 43,
   "id": "56ecc0bc",
   "metadata": {},
   "outputs": [],
   "source": [
    "# Flipkart_data_kitchen.to_csv(\"C:\\\\Users\\\\user\\\\Datasets\\\\Flipkart_data_kitchen.csv\",index=False)"
   ]
  },
  {
   "cell_type": "code",
   "execution_count": 72,
   "id": "bf301a5c",
   "metadata": {},
   "outputs": [],
   "source": [
    "Furnitures=[]\n",
    "Prices=[]\n",
    "\n",
    "Reviews=[]"
   ]
  },
  {
   "cell_type": "code",
   "execution_count": 73,
   "id": "6382d64a",
   "metadata": {},
   "outputs": [],
   "source": [
    "\n",
    "for i in range(2,26):\n",
    "    url = \"https://www.flipkart.com/search?q=furniture&otracker=search&otracker1=search&marketplace=FLIPKART&as-show=on&as=off&page=\"+str(i)\n",
    "    headers = {\n",
    "        'User-Agent': 'Mozilla/5.0 (Windows NT 10.0; Win64; x64; rv:90.0) Gecko/20100101 Firefox/90.0',\n",
    "        'Accept-Language': 'en-US,en;q=0.5',\n",
    "        'Accept-Encoding': 'gzip, deflate, br',\n",
    "        'Connection': 'keep-alive',\n",
    "        'Upgrade-Insecure-Requests': '1',\n",
    "        'Referer': 'https://www.flipkart.com/'\n",
    "    }\n",
    "    res = requests.get(url, headers=headers)\n",
    "    \n",
    "    soup = BeautifulSoup(res.text,\"lxml\")\n",
    "    box=soup.find(\"div\",class_=\"DOjaWF gdgoEp\")\n",
    "\n",
    "\n",
    "    \n",
    "    furniture=box.find_all(\"a\",class_=\"wjcEIp\")\n",
    "    for i in furniture:\n",
    "        name=i.text if i else \"Null\"\n",
    "        Furnitures.append(name)\n",
    "\n",
    "    price=box.find_all(\"div\",class_=\"Nx9bqj\")\n",
    "    for i in price:\n",
    "        p=i.text if i else \"Null\"\n",
    "        Prices.append(p)\n",
    "        \n",
    "\n",
    "    \n",
    "    review=box.find_all(\"div\",class_=\"XQDdHH\")\n",
    "    for i in review:\n",
    "            \n",
    "        re=i.text\n",
    "        Reviews.append(re)\n",
    "        \n"
   ]
  },
  {
   "cell_type": "code",
   "execution_count": 74,
   "id": "ce626f97",
   "metadata": {},
   "outputs": [
    {
     "name": "stdout",
     "output_type": "stream",
     "text": [
      "960\n",
      "959\n",
      "931\n"
     ]
    }
   ],
   "source": [
    "print(len(Furnitures))\n",
    "print(len(Prices))\n",
    "print(len(Reviews))"
   ]
  },
  {
   "cell_type": "code",
   "execution_count": 75,
   "id": "a3bc8900",
   "metadata": {},
   "outputs": [
    {
     "name": "stdout",
     "output_type": "stream",
     "text": [
      "960\n",
      "960\n",
      "960\n"
     ]
    }
   ],
   "source": [
    "max_length = max(len(Furnitures), len(Prices), len(Reviews))\n",
    "\n",
    "Furnitures.extend([\"Null\"] * (max_length - len(Furnitures)))\n",
    "Prices.extend([\"Null\"] * (max_length - len(Prices)))\n",
    "Reviews.extend([\"Null\"] * (max_length - len(Reviews)))\n",
    "\n",
    "print(len(K_products))\n",
    "print(len(Prices))\n",
    "print(len(Reviews))"
   ]
  },
  {
   "cell_type": "code",
   "execution_count": 76,
   "id": "8e3d3d38",
   "metadata": {},
   "outputs": [],
   "source": [
    "Flipkart_data_furniture=pd.DataFrame({\n",
    "    \"Furniture\":Furnitures,\n",
    "    \"Prices\":Prices,\n",
    "    \"Reviews\":Reviews\n",
    "    })"
   ]
  },
  {
   "cell_type": "code",
   "execution_count": 78,
   "id": "12ad6468",
   "metadata": {},
   "outputs": [],
   "source": [
    "# Flipkart_data_furniture.to_csv(\"C:\\\\Users\\\\user\\\\Desktop\\\\Power Bi\\\\Flipcart report\\\\Flipkart_data_funiture.csv\",index=False)"
   ]
  },
  {
   "cell_type": "code",
   "execution_count": null,
   "id": "c88c1404",
   "metadata": {},
   "outputs": [],
   "source": []
  }
 ],
 "metadata": {
  "kernelspec": {
   "display_name": "Python 3 (ipykernel)",
   "language": "python",
   "name": "python3"
  },
  "language_info": {
   "codemirror_mode": {
    "name": "ipython",
    "version": 3
   },
   "file_extension": ".py",
   "mimetype": "text/x-python",
   "name": "python",
   "nbconvert_exporter": "python",
   "pygments_lexer": "ipython3",
   "version": "3.11.5"
  }
 },
 "nbformat": 4,
 "nbformat_minor": 5
}
